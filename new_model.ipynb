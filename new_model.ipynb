{
 "cells": [
  {
   "cell_type": "code",
   "execution_count": 1,
   "metadata": {},
   "outputs": [],
   "source": [
    "import os\n",
    "import tensorflow as tf"
   ]
  },
  {
   "cell_type": "code",
   "execution_count": 8,
   "metadata": {},
   "outputs": [],
   "source": [
    "pre_trained_model = tf.keras.models.load_model('my_model')\n",
    "pre_trained_model.load_weights('my_model1_weights.h5',by_name=True)"
   ]
  },
  {
   "cell_type": "code",
   "execution_count": 9,
   "metadata": {},
   "outputs": [
    {
     "name": "stdout",
     "output_type": "stream",
     "text": [
      "Model: \"sequential\"\n",
      "_________________________________________________________________\n",
      "Layer (type)                 Output Shape              Param #   \n",
      "=================================================================\n",
      "conv2d (Conv2D)              (None, 300, 300, 16)      448       \n",
      "_________________________________________________________________\n",
      "max_pooling2d (MaxPooling2D) (None, 150, 150, 16)      0         \n",
      "_________________________________________________________________\n",
      "conv2d_1 (Conv2D)            (None, 150, 150, 32)      4640      \n",
      "_________________________________________________________________\n",
      "max_pooling2d_1 (MaxPooling2 (None, 75, 75, 32)        0         \n",
      "_________________________________________________________________\n",
      "conv2d_2 (Conv2D)            (None, 75, 75, 64)        18496     \n",
      "_________________________________________________________________\n",
      "max_pooling2d_2 (MaxPooling2 (None, 37, 37, 64)        0         \n",
      "_________________________________________________________________\n",
      "conv2d_3 (Conv2D)            (None, 37, 37, 128)       73856     \n",
      "_________________________________________________________________\n",
      "max_pooling2d_3 (MaxPooling2 (None, 18, 18, 128)       0         \n",
      "_________________________________________________________________\n",
      "conv2d_4 (Conv2D)            (None, 18, 18, 128)       147584    \n",
      "_________________________________________________________________\n",
      "max_pooling2d_4 (MaxPooling2 (None, 9, 9, 128)         0         \n",
      "_________________________________________________________________\n",
      "conv2d_5 (Conv2D)            (None, 9, 9, 128)         147584    \n",
      "_________________________________________________________________\n",
      "max_pooling2d_5 (MaxPooling2 (None, 4, 4, 128)         0         \n",
      "_________________________________________________________________\n",
      "flatten (Flatten)            (None, 2048)              0         \n",
      "_________________________________________________________________\n",
      "dense (Dense)                (None, 512)               1049088   \n",
      "_________________________________________________________________\n",
      "dense_1 (Dense)              (None, 512)               262656    \n",
      "_________________________________________________________________\n",
      "dense_2 (Dense)              (None, 512)               262656    \n",
      "_________________________________________________________________\n",
      "dense_3 (Dense)              (None, 512)               262656    \n",
      "_________________________________________________________________\n",
      "dense_4 (Dense)              (None, 1)                 513       \n",
      "=================================================================\n",
      "Total params: 4,460,354\n",
      "Trainable params: 2,230,177\n",
      "Non-trainable params: 2,230,177\n",
      "_________________________________________________________________\n"
     ]
    }
   ],
   "source": [
    "for layer in pre_trained_model.layers:\n",
    "    layer.trainable=False\n",
    "pre_trained_model.summary()"
   ]
  },
  {
   "cell_type": "code",
   "execution_count": 12,
   "metadata": {},
   "outputs": [
    {
     "name": "stdout",
     "output_type": "stream",
     "text": [
      "last layer output shape:  (None, 4, 4, 128)\n"
     ]
    }
   ],
   "source": [
    "last_layer = pre_trained_model.get_layer('max_pooling2d_5')\n",
    "print('last layer output shape: ', last_layer.output_shape)\n",
    "last_output=last_layer.output"
   ]
  },
  {
   "cell_type": "code",
   "execution_count": 17,
   "metadata": {},
   "outputs": [
    {
     "name": "stdout",
     "output_type": "stream",
     "text": [
      "Model: \"model_1\"\n",
      "_________________________________________________________________\n",
      "Layer (type)                 Output Shape              Param #   \n",
      "=================================================================\n",
      "conv2d_input (InputLayer)    [(None, 300, 300, 3)]     0         \n",
      "_________________________________________________________________\n",
      "conv2d (Conv2D)              (None, 300, 300, 16)      448       \n",
      "_________________________________________________________________\n",
      "max_pooling2d (MaxPooling2D) (None, 150, 150, 16)      0         \n",
      "_________________________________________________________________\n",
      "conv2d_1 (Conv2D)            (None, 150, 150, 32)      4640      \n",
      "_________________________________________________________________\n",
      "max_pooling2d_1 (MaxPooling2 (None, 75, 75, 32)        0         \n",
      "_________________________________________________________________\n",
      "conv2d_2 (Conv2D)            (None, 75, 75, 64)        18496     \n",
      "_________________________________________________________________\n",
      "max_pooling2d_2 (MaxPooling2 (None, 37, 37, 64)        0         \n",
      "_________________________________________________________________\n",
      "conv2d_3 (Conv2D)            (None, 37, 37, 128)       73856     \n",
      "_________________________________________________________________\n",
      "max_pooling2d_3 (MaxPooling2 (None, 18, 18, 128)       0         \n",
      "_________________________________________________________________\n",
      "conv2d_4 (Conv2D)            (None, 18, 18, 128)       147584    \n",
      "_________________________________________________________________\n",
      "max_pooling2d_4 (MaxPooling2 (None, 9, 9, 128)         0         \n",
      "_________________________________________________________________\n",
      "conv2d_5 (Conv2D)            (None, 9, 9, 128)         147584    \n",
      "_________________________________________________________________\n",
      "max_pooling2d_5 (MaxPooling2 (None, 4, 4, 128)         0         \n",
      "_________________________________________________________________\n",
      "flatten_2 (Flatten)          (None, 2048)              0         \n",
      "_________________________________________________________________\n",
      "dense_4 (Dense)              (None, 1024)              2098176   \n",
      "_________________________________________________________________\n",
      "dropout_2 (Dropout)          (None, 1024)              0         \n",
      "_________________________________________________________________\n",
      "dense_5 (Dense)              (None, 1)                 1025      \n",
      "=================================================================\n",
      "Total params: 2,491,809\n",
      "Trainable params: 2,099,201\n",
      "Non-trainable params: 392,608\n",
      "_________________________________________________________________\n"
     ]
    }
   ],
   "source": [
    "from tensorflow.keras.optimizers import RMSprop\n",
    "x = tf.keras.layers.Flatten()(last_output)\n",
    "x = tf.keras.layers.Dense(1024,activation='relu')(x)\n",
    "x = tf.keras.layers.Dropout(0.2)(x)\n",
    "x = tf.keras.layers.Dense  (1,activation='sigmoid')(x)\n",
    "model = tf.keras.Model(pre_trained_model.input, x)\n",
    "model.compile(optimizer = RMSprop(lr=0.0001), \n",
    "              loss = 'binary_crossentropy',\n",
    "              metrics = ['acc'])\n",
    "model.summary()"
   ]
  },
  {
   "cell_type": "code",
   "execution_count": 19,
   "metadata": {},
   "outputs": [
    {
     "name": "stdout",
     "output_type": "stream",
     "text": [
      "Downloading horses-or-humans-dataset.zip to C:\\Users\\Mahesh DY\n",
      "\n"
     ]
    },
    {
     "name": "stderr",
     "output_type": "stream",
     "text": [
      "\n",
      "  0%|          | 0.00/307M [00:00<?, ?B/s]\n",
      "  0%|          | 1.00M/307M [00:00<00:52, 6.16MB/s]\n",
      "  1%|          | 3.00M/307M [00:00<00:42, 7.56MB/s]\n",
      "  1%|1         | 4.00M/307M [00:00<00:39, 8.12MB/s]\n",
      "  2%|1         | 6.00M/307M [00:00<00:35, 8.88MB/s]\n",
      "  3%|2         | 8.00M/307M [00:00<00:33, 9.40MB/s]\n",
      "  3%|3         | 10.0M/307M [00:00<00:31, 9.93MB/s]\n",
      "  4%|3         | 11.0M/307M [00:01<00:31, 9.80MB/s]\n",
      "  4%|4         | 13.0M/307M [00:01<00:30, 10.2MB/s]\n",
      "  5%|4         | 15.0M/307M [00:01<00:29, 10.6MB/s]\n",
      "  6%|5         | 17.0M/307M [00:01<00:28, 10.6MB/s]\n",
      "  6%|6         | 19.0M/307M [00:01<00:27, 11.1MB/s]\n",
      "  7%|6         | 21.0M/307M [00:01<00:26, 11.2MB/s]\n",
      "  7%|7         | 23.0M/307M [00:02<00:27, 10.8MB/s]\n",
      "  8%|8         | 25.0M/307M [00:02<00:26, 11.1MB/s]\n",
      "  9%|8         | 27.0M/307M [00:02<00:26, 11.2MB/s]\n",
      "  9%|9         | 29.0M/307M [00:02<00:27, 10.6MB/s]\n",
      " 10%|#         | 31.0M/307M [00:02<00:26, 10.8MB/s]\n",
      " 11%|#         | 33.0M/307M [00:03<00:25, 11.3MB/s]\n",
      " 11%|#1        | 35.0M/307M [00:03<00:26, 10.7MB/s]\n",
      " 12%|#2        | 37.0M/307M [00:03<00:24, 11.6MB/s]\n",
      " 13%|#2        | 39.0M/307M [00:03<00:24, 11.4MB/s]\n",
      " 13%|#3        | 41.0M/307M [00:04<00:42, 6.60MB/s]\n",
      " 14%|#3        | 42.0M/307M [00:04<00:37, 7.40MB/s]\n",
      " 14%|#4        | 44.0M/307M [00:04<00:33, 8.30MB/s]\n",
      " 15%|#4        | 46.0M/307M [00:04<00:29, 9.15MB/s]\n",
      " 16%|#5        | 48.0M/307M [00:04<00:28, 9.70MB/s]\n",
      " 16%|#6        | 50.0M/307M [00:05<00:26, 10.4MB/s]\n",
      " 17%|#6        | 52.0M/307M [00:05<00:46, 5.76MB/s]\n",
      " 18%|#7        | 54.0M/307M [00:06<00:40, 6.63MB/s]\n",
      " 18%|#8        | 56.0M/307M [00:06<00:33, 7.76MB/s]\n",
      " 19%|#8        | 58.0M/307M [00:06<00:30, 8.63MB/s]\n",
      " 20%|#9        | 60.0M/307M [00:06<00:27, 9.53MB/s]\n",
      " 20%|##        | 62.0M/307M [00:06<00:26, 9.77MB/s]\n",
      " 21%|##        | 64.0M/307M [00:06<00:24, 10.3MB/s]\n",
      " 21%|##1       | 66.0M/307M [00:07<00:23, 10.6MB/s]\n",
      " 22%|##2       | 68.0M/307M [00:07<00:26, 9.51MB/s]\n",
      " 23%|##2       | 70.0M/307M [00:07<00:25, 9.88MB/s]\n",
      " 23%|##3       | 72.0M/307M [00:07<00:24, 10.2MB/s]\n",
      " 24%|##4       | 74.0M/307M [00:08<00:23, 10.3MB/s]\n",
      " 25%|##4       | 76.0M/307M [00:08<00:21, 11.2MB/s]\n",
      " 25%|##5       | 78.0M/307M [00:08<00:21, 11.0MB/s]\n",
      " 26%|##6       | 80.0M/307M [00:08<00:21, 11.1MB/s]\n",
      " 27%|##6       | 82.0M/307M [00:08<00:20, 11.4MB/s]\n",
      " 27%|##7       | 84.0M/307M [00:08<00:20, 11.6MB/s]\n",
      " 28%|##7       | 86.0M/307M [00:09<00:20, 11.3MB/s]\n",
      " 29%|##8       | 88.0M/307M [00:09<00:20, 11.2MB/s]\n",
      " 29%|##9       | 90.0M/307M [00:09<00:20, 11.2MB/s]\n",
      " 30%|##9       | 92.0M/307M [00:09<00:19, 11.4MB/s]\n",
      " 31%|###       | 94.0M/307M [00:09<00:19, 11.3MB/s]\n",
      " 31%|###1      | 96.0M/307M [00:10<00:27, 8.04MB/s]\n",
      " 32%|###1      | 98.0M/307M [00:10<00:25, 8.68MB/s]\n",
      " 33%|###2      | 100M/307M [00:10<00:22, 9.64MB/s] \n",
      " 33%|###3      | 102M/307M [00:10<00:21, 10.1MB/s]\n",
      " 34%|###3      | 104M/307M [00:10<00:20, 10.4MB/s]\n",
      " 34%|###4      | 106M/307M [00:11<00:20, 10.3MB/s]\n",
      " 35%|###5      | 108M/307M [00:11<00:19, 10.8MB/s]\n",
      " 36%|###5      | 110M/307M [00:11<00:18, 11.1MB/s]\n",
      " 36%|###6      | 112M/307M [00:11<00:17, 11.4MB/s]\n",
      " 37%|###7      | 114M/307M [00:11<00:17, 11.4MB/s]\n",
      " 38%|###7      | 116M/307M [00:12<00:17, 11.3MB/s]\n",
      " 38%|###8      | 118M/307M [00:12<00:17, 11.3MB/s]\n",
      " 39%|###9      | 120M/307M [00:12<00:17, 11.6MB/s]\n",
      " 40%|###9      | 122M/307M [00:12<00:17, 11.3MB/s]\n",
      " 40%|####      | 124M/307M [00:12<00:16, 11.7MB/s]\n",
      " 41%|####      | 126M/307M [00:13<00:16, 11.3MB/s]\n",
      " 42%|####1     | 128M/307M [00:13<00:17, 11.1MB/s]\n",
      " 42%|####2     | 130M/307M [00:13<00:16, 11.6MB/s]\n",
      " 43%|####2     | 132M/307M [00:13<00:16, 11.3MB/s]\n",
      " 44%|####3     | 134M/307M [00:13<00:16, 11.2MB/s]\n",
      " 44%|####4     | 136M/307M [00:13<00:15, 11.9MB/s]\n",
      " 45%|####4     | 138M/307M [00:14<00:15, 11.5MB/s]\n",
      " 46%|####5     | 140M/307M [00:14<00:27, 6.40MB/s]\n",
      " 46%|####5     | 141M/307M [00:14<00:24, 7.24MB/s]\n",
      " 47%|####6     | 143M/307M [00:15<00:21, 8.18MB/s]\n",
      " 47%|####7     | 145M/307M [00:15<00:18, 8.97MB/s]\n",
      " 48%|####7     | 147M/307M [00:15<00:17, 9.86MB/s]\n",
      " 48%|####8     | 149M/307M [00:15<00:16, 10.2MB/s]\n",
      " 49%|####9     | 151M/307M [00:15<00:15, 10.5MB/s]\n",
      " 50%|####9     | 153M/307M [00:15<00:15, 10.5MB/s]\n",
      " 50%|#####     | 155M/307M [00:16<00:14, 10.8MB/s]\n",
      " 51%|#####1    | 157M/307M [00:16<00:14, 11.1MB/s]\n",
      " 52%|#####1    | 159M/307M [00:16<00:14, 10.9MB/s]\n",
      " 52%|#####2    | 161M/307M [00:16<00:13, 11.7MB/s]\n",
      " 53%|#####3    | 163M/307M [00:16<00:13, 11.3MB/s]\n",
      " 54%|#####3    | 165M/307M [00:17<00:13, 11.2MB/s]\n",
      " 54%|#####4    | 167M/307M [00:17<00:12, 11.4MB/s]\n",
      " 55%|#####4    | 169M/307M [00:17<00:12, 11.5MB/s]\n",
      " 56%|#####5    | 171M/307M [00:17<00:12, 11.8MB/s]\n",
      " 56%|#####6    | 173M/307M [00:17<00:12, 11.7MB/s]\n",
      " 57%|#####6    | 175M/307M [00:17<00:12, 11.3MB/s]\n",
      " 58%|#####7    | 177M/307M [00:18<00:12, 11.3MB/s]\n",
      " 58%|#####8    | 179M/307M [00:18<00:11, 11.8MB/s]\n",
      " 59%|#####8    | 181M/307M [00:18<00:11, 11.7MB/s]\n",
      " 60%|#####9    | 183M/307M [00:18<00:11, 11.3MB/s]\n",
      " 60%|######    | 185M/307M [00:18<00:11, 11.1MB/s]\n",
      " 61%|######    | 187M/307M [00:19<00:11, 11.5MB/s]\n",
      " 61%|######1   | 189M/307M [00:19<00:10, 11.8MB/s]\n",
      " 62%|######2   | 191M/307M [00:19<00:10, 11.7MB/s]\n",
      " 63%|######2   | 193M/307M [00:19<00:10, 11.5MB/s]\n",
      " 63%|######3   | 195M/307M [00:19<00:10, 11.7MB/s]\n",
      " 64%|######4   | 197M/307M [00:19<00:10, 11.3MB/s]\n",
      " 65%|######4   | 199M/307M [00:20<00:13, 8.64MB/s]\n",
      " 65%|######5   | 200M/307M [00:20<00:12, 8.90MB/s]\n",
      " 65%|######5   | 201M/307M [00:20<00:12, 9.11MB/s]\n",
      " 66%|######6   | 203M/307M [00:20<00:10, 10.1MB/s]\n",
      " 67%|######6   | 205M/307M [00:20<00:10, 10.4MB/s]\n",
      " 67%|######7   | 207M/307M [00:21<00:09, 10.7MB/s]\n",
      " 68%|######7   | 209M/307M [00:21<00:09, 10.6MB/s]\n",
      " 69%|######8   | 211M/307M [00:21<00:16, 6.08MB/s]\n",
      " 69%|######9   | 213M/307M [00:22<00:13, 7.08MB/s]\n",
      " 70%|######9   | 215M/307M [00:22<00:12, 7.94MB/s]\n",
      " 70%|#######   | 216M/307M [00:22<00:11, 8.53MB/s]\n",
      " 71%|#######   | 218M/307M [00:22<00:10, 9.30MB/s]\n",
      " 72%|#######1  | 220M/307M [00:22<00:09, 9.77MB/s]\n",
      " 72%|#######2  | 222M/307M [00:23<00:08, 10.3MB/s]\n",
      " 73%|#######2  | 224M/307M [00:23<00:08, 10.8MB/s]\n",
      " 74%|#######3  | 226M/307M [00:23<00:07, 10.8MB/s]\n",
      " 74%|#######4  | 228M/307M [00:23<00:07, 11.3MB/s]\n",
      " 75%|#######4  | 230M/307M [00:23<00:07, 11.3MB/s]\n",
      " 75%|#######5  | 232M/307M [00:23<00:06, 11.3MB/s]\n",
      " 76%|#######6  | 234M/307M [00:24<00:07, 10.9MB/s]\n",
      " 77%|#######6  | 236M/307M [00:24<00:06, 11.3MB/s]\n",
      " 77%|#######7  | 238M/307M [00:24<00:06, 11.5MB/s]\n",
      " 78%|#######8  | 240M/307M [00:24<00:06, 11.7MB/s]\n",
      " 79%|#######8  | 242M/307M [00:24<00:06, 11.2MB/s]\n",
      " 79%|#######9  | 244M/307M [00:25<00:06, 10.8MB/s]\n",
      " 80%|########  | 246M/307M [00:25<00:05, 11.6MB/s]\n",
      " 81%|########  | 248M/307M [00:25<00:05, 11.9MB/s]\n",
      " 81%|########1 | 250M/307M [00:25<00:05, 11.8MB/s]\n",
      " 82%|########1 | 252M/307M [00:25<00:05, 11.4MB/s]\n",
      " 83%|########2 | 254M/307M [00:25<00:05, 11.1MB/s]\n",
      " 83%|########3 | 256M/307M [00:26<00:04, 11.5MB/s]\n",
      " 84%|########3 | 258M/307M [00:26<00:04, 11.5MB/s]\n",
      " 85%|########4 | 260M/307M [00:26<00:04, 10.6MB/s]\n",
      " 85%|########5 | 262M/307M [00:26<00:04, 10.4MB/s]\n",
      " 86%|########5 | 264M/307M [00:26<00:04, 10.5MB/s]\n",
      " 87%|########6 | 266M/307M [00:27<00:03, 10.9MB/s]\n",
      " 87%|########7 | 268M/307M [00:27<00:03, 11.0MB/s]\n",
      " 88%|########7 | 270M/307M [00:27<00:03, 10.8MB/s]\n",
      " 88%|########8 | 272M/307M [00:27<00:03, 11.0MB/s]\n",
      " 89%|########9 | 274M/307M [00:28<00:05, 6.58MB/s]\n",
      " 90%|########9 | 276M/307M [00:28<00:05, 5.60MB/s]\n",
      " 90%|######### | 277M/307M [00:28<00:04, 6.49MB/s]\n",
      " 90%|######### | 278M/307M [00:29<00:04, 7.10MB/s]\n",
      " 91%|#########1| 280M/307M [00:29<00:03, 8.25MB/s]\n",
      " 92%|#########1| 282M/307M [00:29<00:02, 9.04MB/s]\n",
      " 92%|#########2| 284M/307M [00:29<00:02, 9.67MB/s]\n",
      " 93%|#########3| 286M/307M [00:29<00:02, 10.1MB/s]\n",
      " 94%|#########3| 288M/307M [00:29<00:01, 10.3MB/s]\n",
      " 94%|#########4| 290M/307M [00:30<00:01, 10.7MB/s]\n",
      " 95%|#########4| 292M/307M [00:30<00:01, 11.0MB/s]\n",
      " 96%|#########5| 294M/307M [00:30<00:01, 8.38MB/s]\n",
      " 96%|#########5| 295M/307M [00:30<00:01, 8.86MB/s]\n",
      " 97%|#########6| 297M/307M [00:30<00:01, 9.60MB/s]\n",
      " 97%|#########7| 299M/307M [00:31<00:00, 10.3MB/s]\n",
      " 98%|#########7| 301M/307M [00:31<00:00, 10.7MB/s]\n",
      " 99%|#########8| 303M/307M [00:31<00:00, 10.7MB/s]\n",
      " 99%|#########9| 305M/307M [00:31<00:00, 10.8MB/s]\n",
      "100%|#########9| 307M/307M [00:31<00:00, 11.1MB/s]\n",
      "100%|##########| 307M/307M [00:31<00:00, 10.1MB/s]\n"
     ]
    }
   ],
   "source": [
    "!kaggle datasets download -d sanikamal/horses-or-humans-dataset"
   ]
  },
  {
   "cell_type": "code",
   "execution_count": 20,
   "metadata": {},
   "outputs": [],
   "source": [
    "!unzip -q horses-or-humans-dataset.zip"
   ]
  },
  {
   "cell_type": "code",
   "execution_count": 21,
   "metadata": {},
   "outputs": [
    {
     "name": "stdout",
     "output_type": "stream",
     "text": [
      "500\n",
      "527\n",
      "128\n",
      "128\n"
     ]
    }
   ],
   "source": [
    "train_dir = 'C:/Users/Mahesh DY/horse-or-human/train'\n",
    "validation_dir = 'C:/Users/Mahesh DY/horse-or-human/validation'\n",
    "\n",
    "train_horses_dir = os.path.join(train_dir, 'horses')\n",
    "train_humans_dir = os.path.join(train_dir, 'humans')\n",
    "validation_horses_dir = os.path.join(validation_dir, 'horses')\n",
    "validation_humans_dir = os.path.join(validation_dir, 'humans')\n",
    "\n",
    "train_horses_fnames = os.listdir(train_horses_dir)\n",
    "train_humans_fnames = os.listdir(train_humans_dir)\n",
    "validation_horses_fnames = os.listdir(validation_horses_dir)\n",
    "validation_humans_fnames = os.listdir(validation_humans_dir)\n",
    "\n",
    "print(len(train_horses_fnames))\n",
    "print(len(train_humans_fnames))\n",
    "print(len(validation_horses_fnames))\n",
    "print(len(validation_horses_fnames))"
   ]
  },
  {
   "cell_type": "code",
   "execution_count": 44,
   "metadata": {},
   "outputs": [
    {
     "name": "stdout",
     "output_type": "stream",
     "text": [
      "Found 1027 images belonging to 2 classes.\n",
      "Found 256 images belonging to 2 classes.\n"
     ]
    }
   ],
   "source": [
    "from tensorflow.keras.preprocessing.image import ImageDataGenerator\n",
    "train_datagen = ImageDataGenerator(rescale=1./255,\n",
    "                                  rotation_range=40,\n",
    "                                  width_shift_range=0.2,\n",
    "                                  height_shift_range=0.2,\n",
    "                                  shear_range=0.2,\n",
    "                                  zoom_range=0.2,\n",
    "                                  horizontal_flip=True,\n",
    "                                  fill_mode='nearest')\n",
    "\n",
    "test_datagen = ImageDataGenerator(rescale=1./255 )\n",
    "\n",
    "train_generator = train_datagen.flow_from_directory(train_dir,\n",
    "                                                   batch_size=20,\n",
    "                                                   class_mode='binary',\n",
    "                                                   target_size=(300,300))     \n",
    "\n",
    "\n",
    "validation_generator =  test_datagen.flow_from_directory(validation_dir,\n",
    "                                                        batch_size=20,\n",
    "                                                        class_mode='binary',\n",
    "                                                        target_size=(300,300))"
   ]
  },
  {
   "cell_type": "code",
   "execution_count": 45,
   "metadata": {},
   "outputs": [
    {
     "name": "stdout",
     "output_type": "stream",
     "text": [
      "52\n"
     ]
    }
   ],
   "source": [
    "print(len(train_generator))"
   ]
  },
  {
   "cell_type": "code",
   "execution_count": 50,
   "metadata": {},
   "outputs": [
    {
     "name": "stdout",
     "output_type": "stream",
     "text": [
      "WARNING:tensorflow:sample_weight modes were coerced from\n",
      "  ...\n",
      "    to  \n",
      "  ['...']\n",
      "WARNING:tensorflow:sample_weight modes were coerced from\n",
      "  ...\n",
      "    to  \n",
      "  ['...']\n",
      "Train for 51 steps, validate for 12 steps\n",
      "Epoch 1/3\n",
      "51/51 [==============================] - 100s 2s/step - loss: 0.6141 - acc: 0.7259 - val_loss: 0.5820 - val_acc: 0.8375\n",
      "Epoch 2/3\n",
      "51/51 [==============================] - 99s 2s/step - loss: 0.5110 - acc: 0.7448 - val_loss: 0.6057 - val_acc: 0.8250\n",
      "Epoch 3/3\n",
      "51/51 [==============================] - 101s 2s/step - loss: 0.5043 - acc: 0.7567 - val_loss: 0.6448 - val_acc: 0.8042\n"
     ]
    }
   ],
   "source": [
    "history = model.fit(train_generator,\n",
    "                    validation_data=validation_generator,\n",
    "                    steps_per_epoch=1027//20,\n",
    "                    epochs=3,\n",
    "                    validation_steps=256//20,\n",
    "                    verbose=1)"
   ]
  },
  {
   "cell_type": "code",
   "execution_count": 51,
   "metadata": {},
   "outputs": [
    {
     "data": {
      "image/png": "[encoded data removed]",
      "text/plain": [
       "<Figure size 432x288 with 1 Axes>"
      ]
     },
     "metadata": {
      "needs_background": "light"
     },
     "output_type": "display_data"
    },
    {
     "data": {
      "text/plain": [
       "<Figure size 432x288 with 0 Axes>"
      ]
     },
     "metadata": {},
     "output_type": "display_data"
    }
   ],
   "source": [
    "%matplotlib inline\n",
    "import matplotlib.pyplot as plt\n",
    "acc = history.history['acc']\n",
    "val_acc = history.history['val_acc']\n",
    "loss = history.history['loss']\n",
    "val_loss = history.history['val_loss']\n",
    "\n",
    "epochs = range(len(acc))\n",
    "\n",
    "plt.plot(epochs, acc, 'r', label='Training accuracy')\n",
    "plt.plot(epochs, val_acc, 'b', label='Validation accuracy')\n",
    "plt.title('Training and validation accuracy')\n",
    "plt.legend(loc=0)\n",
    "plt.figure()\n",
    "\n",
    "\n",
    "plt.show()"
   ]
  },
  {
   "cell_type": "code",
   "execution_count": null,
   "metadata": {},
   "outputs": [],
   "source": []
  }
 ],
 "metadata": {
  "kernelspec": {
   "display_name": "Python 3",
   "language": "python",
   "name": "python3"
  },
  "language_info": {
   "codemirror_mode": {
    "name": "ipython",
    "version": 3
   },
   "file_extension": ".py",
   "mimetype": "text/x-python",
   "name": "python",
   "nbconvert_exporter": "python",
   "pygments_lexer": "ipython3",
   "version": "3.7.7"
  }
 },
 "nbformat": 4,
 "nbformat_minor": 4
}
