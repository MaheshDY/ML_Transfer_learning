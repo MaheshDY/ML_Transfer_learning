{
 "cells": [
  {
   "cell_type": "code",
   "execution_count": 3,
   "metadata": {},
   "outputs": [
    {
     "name": "stdout",
     "output_type": "stream",
     "text": [
      "Downloading cat-and-dog.zip to C:\\Users\\Mahesh DY"
     ]
    },
    {
     "name": "stderr",
     "output_type": "stream",
     "text": [
      "\n",
      "  0%|          | 0.00/218M [00:00<?, ?B/s]\n",
      "  0%|          | 1.00M/218M [00:00<00:28, 8.11MB/s]\n",
      "  1%|          | 2.00M/218M [00:00<00:26, 8.51MB/s]\n",
      "  1%|1         | 3.00M/218M [00:00<00:25, 8.84MB/s]\n"
     ]
    },
    {
     "name": "stdout",
     "output_type": "stream",
     "text": [
      "\n",
      "\n"
     ]
    },
    {
     "name": "stderr",
     "output_type": "stream",
     "text": [
      "  2%|2         | 5.00M/218M [00:00<00:24, 9.19MB/s]\n",
      "  3%|2         | 6.00M/218M [00:00<00:23, 9.39MB/s]\n",
      "  3%|3         | 7.00M/218M [00:00<00:23, 9.58MB/s]\n",
      "  4%|3         | 8.00M/218M [00:00<00:26, 8.18MB/s]\n",
      "  4%|4         | 9.00M/218M [00:01<00:25, 8.43MB/s]\n",
      "  5%|4         | 10.0M/218M [00:01<00:25, 8.41MB/s]\n",
      "  5%|5         | 11.0M/218M [00:01<00:25, 8.50MB/s]\n",
      "  6%|5         | 12.0M/218M [00:01<00:24, 8.82MB/s]\n",
      "  6%|5         | 13.0M/218M [00:01<00:25, 8.30MB/s]\n",
      "  7%|6         | 15.0M/218M [00:01<00:25, 8.38MB/s]\n",
      "  7%|7         | 16.0M/218M [00:01<00:27, 7.61MB/s]\n",
      "  8%|7         | 17.0M/218M [00:02<00:25, 8.24MB/s]\n",
      "  8%|8         | 18.0M/218M [00:02<00:25, 8.10MB/s]\n",
      "  9%|8         | 19.0M/218M [00:02<00:24, 8.69MB/s]\n",
      "  9%|9         | 20.0M/218M [00:02<00:22, 9.16MB/s]\n",
      " 10%|#         | 22.0M/218M [00:02<00:20, 9.84MB/s]\n",
      " 11%|#         | 23.0M/218M [00:02<00:20, 9.93MB/s]\n",
      " 11%|#1        | 24.0M/218M [00:02<00:22, 9.14MB/s]\n",
      " 12%|#1        | 26.0M/218M [00:03<00:21, 9.35MB/s]\n",
      " 13%|#2        | 28.0M/218M [00:03<00:20, 9.84MB/s]\n",
      " 14%|#3        | 30.0M/218M [00:03<00:19, 10.2MB/s]\n",
      " 14%|#4        | 31.0M/218M [00:03<00:19, 10.1MB/s]\n",
      " 15%|#4        | 32.0M/218M [00:03<00:21, 9.03MB/s]\n",
      " 16%|#5        | 34.0M/218M [00:03<00:22, 8.63MB/s]\n",
      " 17%|#6        | 36.0M/218M [00:04<00:19, 9.83MB/s]\n",
      " 17%|#7        | 38.0M/218M [00:04<00:18, 10.1MB/s]\n",
      " 18%|#8        | 40.0M/218M [00:04<00:18, 9.89MB/s]\n",
      " 19%|#9        | 42.0M/218M [00:04<00:22, 8.20MB/s]\n",
      " 20%|##        | 44.0M/218M [00:05<00:21, 8.51MB/s]\n",
      " 21%|##        | 45.0M/218M [00:05<00:21, 8.36MB/s]\n",
      " 21%|##1       | 46.0M/218M [00:05<00:27, 6.68MB/s]\n",
      " 22%|##2       | 48.0M/218M [00:05<00:23, 7.67MB/s]\n",
      " 23%|##2       | 50.0M/218M [00:05<00:21, 8.32MB/s]\n",
      " 23%|##3       | 51.0M/218M [00:05<00:20, 8.58MB/s]\n",
      " 24%|##3       | 52.0M/218M [00:06<00:19, 8.92MB/s]\n",
      " 25%|##4       | 54.0M/218M [00:06<00:18, 9.37MB/s]\n",
      " 25%|##5       | 55.0M/218M [00:06<00:17, 9.67MB/s]\n",
      " 26%|##6       | 57.0M/218M [00:06<00:16, 10.1MB/s]\n",
      " 27%|##7       | 59.0M/218M [00:06<00:15, 10.5MB/s]\n",
      " 28%|##7       | 61.0M/218M [00:06<00:15, 10.9MB/s]\n",
      " 29%|##8       | 63.0M/218M [00:07<00:15, 10.6MB/s]\n",
      " 30%|##9       | 65.0M/218M [00:07<00:16, 9.86MB/s]\n",
      " 30%|###       | 66.0M/218M [00:07<00:17, 9.28MB/s]\n",
      " 31%|###1      | 68.0M/218M [00:07<00:15, 9.91MB/s]\n",
      " 32%|###2      | 70.0M/218M [00:07<00:14, 10.5MB/s]\n",
      " 33%|###3      | 72.0M/218M [00:07<00:13, 11.0MB/s]\n",
      " 34%|###3      | 74.0M/218M [00:08<00:13, 11.3MB/s]\n",
      " 35%|###4      | 76.0M/218M [00:08<00:13, 10.7MB/s]\n",
      " 36%|###5      | 78.0M/218M [00:08<00:13, 11.0MB/s]\n",
      " 37%|###6      | 80.0M/218M [00:08<00:16, 8.59MB/s]\n",
      " 37%|###7      | 81.0M/218M [00:09<00:16, 8.53MB/s]\n",
      " 38%|###8      | 83.0M/218M [00:09<00:14, 9.44MB/s]\n",
      " 39%|###9      | 85.0M/218M [00:09<00:13, 10.0MB/s]\n",
      " 40%|###9      | 87.0M/218M [00:09<00:13, 10.2MB/s]\n",
      " 41%|####      | 89.0M/218M [00:09<00:12, 10.4MB/s]\n",
      " 42%|####1     | 91.0M/218M [00:09<00:12, 10.7MB/s]\n",
      " 43%|####2     | 93.0M/218M [00:10<00:16, 7.98MB/s]\n",
      " 43%|####3     | 94.0M/218M [00:10<00:15, 8.53MB/s]\n",
      " 44%|####4     | 96.0M/218M [00:10<00:13, 9.39MB/s]\n",
      " 45%|####4     | 98.0M/218M [00:10<00:12, 9.94MB/s]\n",
      " 46%|####5     | 100M/218M [00:11<00:11, 10.4MB/s] \n",
      " 47%|####6     | 102M/218M [00:11<00:11, 10.9MB/s]\n",
      " 48%|####7     | 104M/218M [00:11<00:10, 11.1MB/s]\n",
      " 49%|####8     | 106M/218M [00:11<00:10, 11.2MB/s]\n",
      " 50%|####9     | 108M/218M [00:11<00:10, 11.2MB/s]\n",
      " 50%|#####     | 110M/218M [00:11<00:10, 11.1MB/s]\n",
      " 51%|#####1    | 112M/218M [00:12<00:09, 11.3MB/s]\n",
      " 52%|#####2    | 114M/218M [00:12<00:10, 10.5MB/s]\n",
      " 53%|#####3    | 116M/218M [00:12<00:11, 9.02MB/s]\n",
      " 54%|#####4    | 118M/218M [00:12<00:10, 9.75MB/s]\n",
      " 55%|#####5    | 120M/218M [00:13<00:10, 10.2MB/s]\n",
      " 56%|#####5    | 122M/218M [00:13<00:10, 9.32MB/s]\n",
      " 57%|#####6    | 124M/218M [00:13<00:09, 10.6MB/s]\n",
      " 58%|#####7    | 126M/218M [00:13<00:09, 10.7MB/s]\n",
      " 59%|#####8    | 128M/218M [00:13<00:09, 10.5MB/s]\n",
      " 60%|#####9    | 130M/218M [00:14<00:09, 9.95MB/s]\n",
      " 61%|######    | 132M/218M [00:14<00:08, 10.9MB/s]\n",
      " 61%|######1   | 134M/218M [00:14<00:07, 11.3MB/s]\n",
      " 62%|######2   | 136M/218M [00:14<00:08, 9.94MB/s]\n",
      " 63%|######3   | 138M/218M [00:14<00:08, 9.32MB/s]\n",
      " 64%|######4   | 140M/218M [00:15<00:07, 10.5MB/s]\n",
      " 65%|######5   | 142M/218M [00:15<00:07, 10.5MB/s]\n",
      " 66%|######6   | 144M/218M [00:15<00:08, 9.56MB/s]\n",
      " 67%|######7   | 146M/218M [00:15<00:07, 10.1MB/s]\n",
      " 68%|######7   | 148M/218M [00:15<00:07, 10.2MB/s]\n",
      " 69%|######8   | 150M/218M [00:16<00:07, 9.37MB/s]\n",
      " 69%|######9   | 151M/218M [00:16<00:07, 9.60MB/s]\n",
      " 70%|######9   | 152M/218M [00:16<00:07, 9.57MB/s]\n",
      " 70%|#######   | 153M/218M [00:16<00:06, 9.75MB/s]\n",
      " 71%|#######1  | 155M/218M [00:16<00:06, 10.3MB/s]\n",
      " 72%|#######2  | 157M/218M [00:16<00:06, 10.0MB/s]\n",
      " 73%|#######2  | 159M/218M [00:17<00:06, 10.1MB/s]\n",
      " 74%|#######3  | 161M/218M [00:17<00:05, 10.7MB/s]\n",
      " 75%|#######4  | 163M/218M [00:17<00:05, 10.8MB/s]\n",
      " 76%|#######5  | 165M/218M [00:17<00:05, 10.9MB/s]\n",
      " 77%|#######6  | 167M/218M [00:17<00:04, 10.8MB/s]\n",
      " 78%|#######7  | 169M/218M [00:18<00:04, 10.8MB/s]\n",
      " 78%|#######8  | 171M/218M [00:18<00:05, 9.19MB/s]\n",
      " 79%|#######9  | 173M/218M [00:18<00:04, 9.96MB/s]\n",
      " 80%|########  | 175M/218M [00:18<00:04, 9.72MB/s]\n",
      " 81%|########  | 176M/218M [00:18<00:05, 7.79MB/s]\n",
      " 82%|########1 | 178M/218M [00:19<00:04, 8.82MB/s]\n",
      " 82%|########2 | 179M/218M [00:19<00:05, 7.93MB/s]\n",
      " 83%|########3 | 181M/218M [00:19<00:04, 8.30MB/s]\n",
      " 84%|########3 | 182M/218M [00:19<00:05, 7.04MB/s]\n",
      " 84%|########3 | 183M/218M [00:19<00:05, 6.93MB/s]\n",
      " 85%|########4 | 185M/218M [00:20<00:04, 7.67MB/s]\n",
      " 85%|########5 | 186M/218M [00:20<00:04, 8.20MB/s]\n",
      " 86%|########6 | 188M/218M [00:20<00:03, 8.88MB/s]\n",
      " 87%|########6 | 189M/218M [00:20<00:03, 8.63MB/s]\n",
      " 88%|########7 | 191M/218M [00:20<00:02, 9.53MB/s]\n",
      " 88%|########8 | 192M/218M [00:20<00:02, 9.67MB/s]\n",
      " 89%|########8 | 193M/218M [00:20<00:02, 9.25MB/s]\n",
      " 89%|########9 | 194M/218M [00:20<00:02, 9.46MB/s]\n",
      " 90%|########9 | 196M/218M [00:21<00:02, 10.2MB/s]\n",
      " 91%|######### | 198M/218M [00:21<00:01, 10.5MB/s]\n",
      " 92%|#########1| 200M/218M [00:21<00:01, 10.8MB/s]\n",
      " 93%|#########2| 202M/218M [00:21<00:01, 10.7MB/s]\n",
      " 94%|#########3| 204M/218M [00:22<00:01, 8.33MB/s]\n",
      " 94%|#########4| 205M/218M [00:22<00:01, 7.32MB/s]\n",
      " 95%|#########4| 206M/218M [00:22<00:02, 5.21MB/s]\n",
      " 95%|#########4| 207M/218M [00:22<00:02, 5.23MB/s]\n",
      " 96%|#########5| 209M/218M [00:23<00:01, 5.43MB/s]\n",
      " 96%|#########6| 210M/218M [00:23<00:01, 4.86MB/s]\n",
      " 97%|#########6| 211M/218M [00:23<00:01, 4.72MB/s]\n",
      " 97%|#########7| 212M/218M [00:23<00:01, 4.83MB/s]\n",
      " 98%|#########7| 213M/218M [00:24<00:01, 4.66MB/s]\n",
      " 98%|#########8| 214M/218M [00:24<00:00, 5.15MB/s]\n",
      " 99%|#########8| 215M/218M [00:24<00:00, 3.81MB/s]\n",
      " 99%|#########9| 216M/218M [00:24<00:00, 4.50MB/s]\n",
      "100%|#########9| 217M/218M [00:25<00:00, 4.30MB/s]\n",
      "100%|##########| 218M/218M [00:25<00:00, 4.33MB/s]\n",
      "100%|##########| 218M/218M [00:25<00:00, 9.03MB/s]\n"
     ]
    }
   ],
   "source": [
    "!kaggle datasets download -d tongpython/cat-and-dog"
   ]
  },
  {
   "cell_type": "code",
   "execution_count": 4,
   "metadata": {},
   "outputs": [],
   "source": [
    "!unzip -q cat-and-dog.zip"
   ]
  },
  {
   "cell_type": "code",
   "execution_count": 1,
   "metadata": {
    "scrolled": true
   },
   "outputs": [],
   "source": [
    "import os\n",
    "base = \"C:/Users/Mahesh DY\"\n",
    "train_dir=os.path.join(base,'training_set/training_set')\n",
    "validation_dir=os.path.join(base,'test_set/test_set')\n",
    "\n",
    "train_cats=os.path.join(train_dir,'cats')\n",
    "train_dogs=os.path.join(train_dir,'dogs')\n",
    "\n",
    "validation_cats=os.path.join(validation_dir,'cats')\n",
    "validation_dogs=os.path.join(validation_dir,'dogs')"
   ]
  },
  {
   "cell_type": "code",
   "execution_count": 2,
   "metadata": {},
   "outputs": [],
   "source": [
    "import tensorflow as tf"
   ]
  },
  {
   "cell_type": "code",
   "execution_count": 3,
   "metadata": {},
   "outputs": [],
   "source": [
    "model1=tf.keras.models.Sequential([\n",
    "                                  tf.keras.layers.Conv2D(16,(3,3),activation='relu',padding='same',input_shape=(300,300,3)),\n",
    "                                  tf.keras.layers.MaxPooling2D(2,2),\n",
    "                                  tf.keras.layers.Conv2D(32,(3,3),activation=\"relu\",padding='same'),\n",
    "                                  tf.keras.layers.MaxPooling2D(2,2),\n",
    "                                  tf.keras.layers.Conv2D(64,(3,3),activation='relu',padding='same'),\n",
    "                                  tf.keras.layers.MaxPooling2D(2,2),\n",
    "                                  tf.keras.layers.Conv2D(128,(3,3),activation='relu',padding='same'),\n",
    "                                  tf.keras.layers.MaxPooling2D(2,2),\n",
    "                                  tf.keras.layers.Conv2D(128,(3,3),activation='relu',padding='same'),\n",
    "                                  tf.keras.layers.MaxPooling2D(2,2),\n",
    "                                  tf.keras.layers.Conv2D(128,(3,3),activation='relu',padding='same'),\n",
    "                                  tf.keras.layers.MaxPooling2D(2,2),\n",
    "    tf.keras.layers.Flatten(),\n",
    "    tf.keras.layers.Dense(512,activation='relu'),\n",
    "    tf.keras.layers.Dense(512,activation='relu'),\n",
    "    tf.keras.layers.Dense(512,activation='relu'),\n",
    "    tf.keras.layers.Dense(512,activation='relu'),\n",
    "    tf.keras.layers.Dense(1,activation='sigmoid')\n",
    "    ])"
   ]
  },
  {
   "cell_type": "code",
   "execution_count": 4,
   "metadata": {},
   "outputs": [
    {
     "name": "stdout",
     "output_type": "stream",
     "text": [
      "Model: \"sequential\"\n",
      "_________________________________________________________________\n",
      "Layer (type)                 Output Shape              Param #   \n",
      "=================================================================\n",
      "conv2d (Conv2D)              (None, 300, 300, 16)      448       \n",
      "_________________________________________________________________\n",
      "max_pooling2d (MaxPooling2D) (None, 150, 150, 16)      0         \n",
      "_________________________________________________________________\n",
      "conv2d_1 (Conv2D)            (None, 150, 150, 32)      4640      \n",
      "_________________________________________________________________\n",
      "max_pooling2d_1 (MaxPooling2 (None, 75, 75, 32)        0         \n",
      "_________________________________________________________________\n",
      "conv2d_2 (Conv2D)            (None, 75, 75, 64)        18496     \n",
      "_________________________________________________________________\n",
      "max_pooling2d_2 (MaxPooling2 (None, 37, 37, 64)        0         \n",
      "_________________________________________________________________\n",
      "conv2d_3 (Conv2D)            (None, 37, 37, 128)       73856     \n",
      "_________________________________________________________________\n",
      "max_pooling2d_3 (MaxPooling2 (None, 18, 18, 128)       0         \n",
      "_________________________________________________________________\n",
      "conv2d_4 (Conv2D)            (None, 18, 18, 128)       147584    \n",
      "_________________________________________________________________\n",
      "max_pooling2d_4 (MaxPooling2 (None, 9, 9, 128)         0         \n",
      "_________________________________________________________________\n",
      "conv2d_5 (Conv2D)            (None, 9, 9, 128)         147584    \n",
      "_________________________________________________________________\n",
      "max_pooling2d_5 (MaxPooling2 (None, 4, 4, 128)         0         \n",
      "_________________________________________________________________\n",
      "flatten (Flatten)            (None, 2048)              0         \n",
      "_________________________________________________________________\n",
      "dense (Dense)                (None, 512)               1049088   \n",
      "_________________________________________________________________\n",
      "dense_1 (Dense)              (None, 512)               262656    \n",
      "_________________________________________________________________\n",
      "dense_2 (Dense)              (None, 512)               262656    \n",
      "_________________________________________________________________\n",
      "dense_3 (Dense)              (None, 512)               262656    \n",
      "_________________________________________________________________\n",
      "dense_4 (Dense)              (None, 1)                 513       \n",
      "=================================================================\n",
      "Total params: 2,230,177\n",
      "Trainable params: 2,230,177\n",
      "Non-trainable params: 0\n",
      "_________________________________________________________________\n"
     ]
    }
   ],
   "source": [
    "model1.summary()"
   ]
  },
  {
   "cell_type": "code",
   "execution_count": 5,
   "metadata": {},
   "outputs": [],
   "source": [
    "from tensorflow.keras.optimizers import RMSprop\n",
    "\n",
    "model1.compile(optimizer=RMSprop(lr=0.001),\n",
    "              loss='binary_crossentropy',\n",
    "              metrics=['accuracy'])"
   ]
  },
  {
   "cell_type": "code",
   "execution_count": 6,
   "metadata": {},
   "outputs": [
    {
     "name": "stdout",
     "output_type": "stream",
     "text": [
      "Found 8005 images belonging to 2 classes.\n",
      "Found 2023 images belonging to 2 classes.\n"
     ]
    }
   ],
   "source": [
    "from tensorflow.keras.preprocessing.image import ImageDataGenerator\n",
    "\n",
    "train_datagen=ImageDataGenerator(rescale=1./255)\n",
    "validation_datagen=ImageDataGenerator(rescale=1./255)\n",
    "\n",
    "train_generator=train_datagen.flow_from_directory(train_dir,\n",
    "                                                  batch_size=20,\n",
    "                                                  class_mode='binary',\n",
    "                                                  target_size=(300,300))\n",
    "validation_genarator=validation_datagen.flow_from_directory(validation_dir,\n",
    "                                                            batch_size=20,\n",
    "                                                            class_mode='binary',\n",
    "                                                            target_size=(300,300))"
   ]
  },
  {
   "cell_type": "code",
   "execution_count": 7,
   "metadata": {},
   "outputs": [
    {
     "name": "stdout",
     "output_type": "stream",
     "text": [
      "WARNING:tensorflow:sample_weight modes were coerced from\n",
      "  ...\n",
      "    to  \n",
      "  ['...']\n",
      "WARNING:tensorflow:sample_weight modes were coerced from\n",
      "  ...\n",
      "    to  \n",
      "  ['...']\n",
      "Train for 100 steps, validate for 50 steps\n",
      "Epoch 1/15\n",
      "100/100 [==============================] - 163s 2s/step - loss: 0.7144 - accuracy: 0.5090 - val_loss: 0.6934 - val_accuracy: 0.5060\n",
      "Epoch 2/15\n",
      "100/100 [==============================] - 152s 2s/step - loss: 0.7135 - accuracy: 0.5455 - val_loss: 0.6885 - val_accuracy: 0.5420\n",
      "Epoch 3/15\n",
      "100/100 [==============================] - 161s 2s/step - loss: 0.7229 - accuracy: 0.5435 - val_loss: 0.6853 - val_accuracy: 0.5720\n",
      "Epoch 4/15\n",
      "100/100 [==============================] - 2026s 20s/step - loss: 0.7073 - accuracy: 0.5550 - val_loss: 0.6874 - val_accuracy: 0.5450\n",
      "Epoch 5/15\n",
      "100/100 [==============================] - 730s 7s/step - loss: 0.6922 - accuracy: 0.5720 - val_loss: 0.6760 - val_accuracy: 0.5970\n",
      "Epoch 6/15\n",
      "100/100 [==============================] - 148s 1s/step - loss: 0.6852 - accuracy: 0.5780 - val_loss: 0.6797 - val_accuracy: 0.5540\n",
      "Epoch 7/15\n",
      "100/100 [==============================] - 170s 2s/step - loss: 0.6705 - accuracy: 0.5965 - val_loss: 0.6450 - val_accuracy: 0.6270\n",
      "Epoch 8/15\n",
      "100/100 [==============================] - 176s 2s/step - loss: 0.6588 - accuracy: 0.6305 - val_loss: 0.6517 - val_accuracy: 0.6270\n",
      "Epoch 9/15\n",
      "100/100 [==============================] - 160s 2s/step - loss: 0.6128 - accuracy: 0.6695 - val_loss: 0.6167 - val_accuracy: 0.6080\n",
      "Epoch 10/15\n",
      "100/100 [==============================] - 154s 2s/step - loss: 0.6156 - accuracy: 0.6805 - val_loss: 0.5722 - val_accuracy: 0.7160\n",
      "Epoch 11/15\n",
      "100/100 [==============================] - 153s 2s/step - loss: 0.5920 - accuracy: 0.6967 - val_loss: 0.6298 - val_accuracy: 0.6030\n",
      "Epoch 12/15\n",
      "100/100 [==============================] - 153s 2s/step - loss: 0.5484 - accuracy: 0.7245 - val_loss: 0.5642 - val_accuracy: 0.7290\n",
      "Epoch 13/15\n",
      "100/100 [==============================] - 152s 2s/step - loss: 0.5299 - accuracy: 0.7470 - val_loss: 0.4915 - val_accuracy: 0.7750\n",
      "Epoch 14/15\n",
      "100/100 [==============================] - 154s 2s/step - loss: 0.5225 - accuracy: 0.7475 - val_loss: 0.5233 - val_accuracy: 0.7680\n",
      "Epoch 15/15\n",
      "100/100 [==============================] - 152s 2s/step - loss: 0.4944 - accuracy: 0.7685 - val_loss: 0.6391 - val_accuracy: 0.7470\n"
     ]
    }
   ],
   "source": [
    "history=model1.fit(train_generator,\n",
    "                  validation_data=validation_genarator,\n",
    "                  steps_per_epoch=100,\n",
    "                  epochs=15,\n",
    "                  validation_steps=50,\n",
    "                  verbose=1)"
   ]
  },
  {
   "cell_type": "code",
   "execution_count": 10,
   "metadata": {},
   "outputs": [],
   "source": [
    "model1.save_weights('my_model1_weights.h5')"
   ]
  },
  {
   "cell_type": "code",
   "execution_count": 11,
   "metadata": {},
   "outputs": [
    {
     "name": "stdout",
     "output_type": "stream",
     "text": [
      "WARNING:tensorflow:From C:\\Users\\Mahesh DY\\Anaconda3\\lib\\site-packages\\tensorflow_core\\python\\ops\\resource_variable_ops.py:1786: calling BaseResourceVariable.__init__ (from tensorflow.python.ops.resource_variable_ops) with constraint is deprecated and will be removed in a future version.\n",
      "Instructions for updating:\n",
      "If using Keras pass *_constraint arguments to layers.\n",
      "INFO:tensorflow:Assets written to: my_model\\assets\n"
     ]
    }
   ],
   "source": [
    "model1.save('my_model')"
   ]
  },
  {
   "cell_type": "code",
   "execution_count": 15,
   "metadata": {},
   "outputs": [
    {
     "name": "stdout",
     "output_type": "stream",
     "text": [
      "2.1.0\n"
     ]
    }
   ],
   "source": [
    "print(tf.__version__)"
   ]
  },
  {
   "cell_type": "code",
   "execution_count": null,
   "metadata": {},
   "outputs": [],
   "source": []
  }
 ],
 "metadata": {
  "kernelspec": {
   "display_name": "Python 3",
   "language": "python",
   "name": "python3"
  },
  "language_info": {
   "codemirror_mode": {
    "name": "ipython",
    "version": 3
   },
   "file_extension": ".py",
   "mimetype": "text/x-python",
   "name": "python",
   "nbconvert_exporter": "python",
   "pygments_lexer": "ipython3",
   "version": "3.7.7"
  }
 },
 "nbformat": 4,
 "nbformat_minor": 4
}
